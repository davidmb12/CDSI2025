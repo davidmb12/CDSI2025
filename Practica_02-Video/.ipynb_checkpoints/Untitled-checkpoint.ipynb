{
 "cells": [
  {
   "cell_type": "code",
   "execution_count": 29,
   "id": "5bf69ab3-ece5-4595-8025-ecc349179090",
   "metadata": {},
   "outputs": [],
   "source": [
    "import cv2\n",
    "import os\n",
    "\n",
    "import numpy as np"
   ]
  },
  {
   "cell_type": "code",
   "execution_count": 23,
   "id": "aaab675e-9e31-4114-a18b-6ea5ede1a5fa",
   "metadata": {},
   "outputs": [
    {
     "name": "stdout",
     "output_type": "stream",
     "text": [
      "Requirement already satisfied: opencv-python in c:\\users\\admin\\anaconda3\\lib\\site-packages (4.11.0.86)\n",
      "Requirement already satisfied: numpy>=1.21.2 in c:\\users\\admin\\anaconda3\\lib\\site-packages (from opencv-python) (1.26.4)\n"
     ]
    }
   ],
   "source": [
    "!pip install opencv-python\n"
   ]
  },
  {
   "cell_type": "code",
   "execution_count": null,
   "id": "c070765d-be09-43f3-8e34-5eca5738ddf3",
   "metadata": {},
   "outputs": [],
   "source": [
    "# Method definitons"
   ]
  },
  {
   "cell_type": "code",
   "execution_count": 35,
   "id": "083d56b3-2f03-4ed8-8f1b-758359342139",
   "metadata": {},
   "outputs": [],
   "source": [
    "# Define the video file extensions you're interested in\n",
    "def load_video_files(root_folder):\n",
    "    video_files = []\n",
    "    # os.walk traverses the directory tree\n",
    "    for dirpath, dirnames, filenames in os.walk(root_folder):\n",
    "        for filename in filenames:\n",
    "            # Check if the file extension matches (case-insensitive)\n",
    "            video_files.append(os.path.join(dirpath, filename))\n",
    "    return video_files\n",
    "\n",
    "# Example usage:\n",
    "folder_path = './Videos/'\n",
    "videoFiles = load_video_files(folder_path)\n"
   ]
  },
  {
   "cell_type": "code",
   "execution_count": 37,
   "id": "4dca469d-5992-4bec-9341-29381379f401",
   "metadata": {},
   "outputs": [],
   "source": [
    "# Create a VideoCapture object\n",
    "cap = cv2.VideoCapture(videoFiles[0])\n",
    "\n",
    "# Check if the video was opened successfully\n",
    "if not cap.isOpened():\n",
    "    print(\"Error: Could not open video.\")\n",
    "    exit()\n",
    "\n",
    "# Process video frame by frame\n",
    "while True:\n",
    "    ret, frame = cap.read()\n",
    "    \n",
    "    # If the frame was not retrieved successfully, break the loop\n",
    "    if not ret:\n",
    "        break\n",
    "    \n",
    "    # Display the current frame\n",
    "    cv2.imshow('Video Frame', frame)\n",
    "    \n",
    "    # Wait for 25ms and exit loop if 'q' is pressed\n",
    "    if cv2.waitKey(25) & 0xFF == ord('q'):\n",
    "        break\n",
    "\n",
    "# Release the VideoCapture object and close display windows\n",
    "cap.release()\n",
    "cv2.destroyAllWindows()"
   ]
  }
 ],
 "metadata": {
  "kernelspec": {
   "display_name": "Python 3 (ipykernel)",
   "language": "python",
   "name": "python3"
  },
  "language_info": {
   "codemirror_mode": {
    "name": "ipython",
    "version": 3
   },
   "file_extension": ".py",
   "mimetype": "text/x-python",
   "name": "python",
   "nbconvert_exporter": "python",
   "pygments_lexer": "ipython3",
   "version": "3.12.4"
  }
 },
 "nbformat": 4,
 "nbformat_minor": 5
}
